{
 "cells": [
  {
   "cell_type": "code",
   "execution_count": 128,
   "metadata": {},
   "outputs": [],
   "source": [
    "import pandas as pd\n",
    "import matplotlib.pyplot as plt\n",
    "import seaborn as sns\n",
    "import warnings\n",
    "warnings.filterwarnings('ignore')"
   ]
  },
  {
   "cell_type": "code",
   "execution_count": 129,
   "metadata": {},
   "outputs": [
    {
     "data": {
      "text/html": [
       "<div>\n",
       "<style scoped>\n",
       "    .dataframe tbody tr th:only-of-type {\n",
       "        vertical-align: middle;\n",
       "    }\n",
       "\n",
       "    .dataframe tbody tr th {\n",
       "        vertical-align: top;\n",
       "    }\n",
       "\n",
       "    .dataframe thead th {\n",
       "        text-align: right;\n",
       "    }\n",
       "</style>\n",
       "<table border=\"1\" class=\"dataframe\">\n",
       "  <thead>\n",
       "    <tr style=\"text-align: right;\">\n",
       "      <th></th>\n",
       "      <th>PatientID</th>\n",
       "      <th>Age</th>\n",
       "      <th>Gender</th>\n",
       "      <th>Ethnicity</th>\n",
       "      <th>SocioeconomicStatus</th>\n",
       "      <th>EducationLevel</th>\n",
       "      <th>BMI</th>\n",
       "      <th>Smoking</th>\n",
       "      <th>AlcoholConsumption</th>\n",
       "      <th>PhysicalActivity</th>\n",
       "      <th>...</th>\n",
       "      <th>TinglingHandsFeet</th>\n",
       "      <th>QualityOfLifeScore</th>\n",
       "      <th>HeavyMetalsExposure</th>\n",
       "      <th>OccupationalExposureChemicals</th>\n",
       "      <th>WaterQuality</th>\n",
       "      <th>MedicalCheckupsFrequency</th>\n",
       "      <th>MedicationAdherence</th>\n",
       "      <th>HealthLiteracy</th>\n",
       "      <th>Diagnosis</th>\n",
       "      <th>DoctorInCharge</th>\n",
       "    </tr>\n",
       "  </thead>\n",
       "  <tbody>\n",
       "    <tr>\n",
       "      <th>0</th>\n",
       "      <td>6000</td>\n",
       "      <td>44</td>\n",
       "      <td>0</td>\n",
       "      <td>1</td>\n",
       "      <td>2</td>\n",
       "      <td>1</td>\n",
       "      <td>32.985284</td>\n",
       "      <td>1</td>\n",
       "      <td>4.499365</td>\n",
       "      <td>2.443385</td>\n",
       "      <td>...</td>\n",
       "      <td>1</td>\n",
       "      <td>73.765109</td>\n",
       "      <td>0</td>\n",
       "      <td>0</td>\n",
       "      <td>0</td>\n",
       "      <td>1.782724</td>\n",
       "      <td>4.486980</td>\n",
       "      <td>7.211349</td>\n",
       "      <td>1</td>\n",
       "      <td>Confidential</td>\n",
       "    </tr>\n",
       "    <tr>\n",
       "      <th>1</th>\n",
       "      <td>6001</td>\n",
       "      <td>51</td>\n",
       "      <td>1</td>\n",
       "      <td>0</td>\n",
       "      <td>1</td>\n",
       "      <td>2</td>\n",
       "      <td>39.916764</td>\n",
       "      <td>0</td>\n",
       "      <td>1.578919</td>\n",
       "      <td>8.301264</td>\n",
       "      <td>...</td>\n",
       "      <td>0</td>\n",
       "      <td>91.445753</td>\n",
       "      <td>0</td>\n",
       "      <td>0</td>\n",
       "      <td>1</td>\n",
       "      <td>3.381070</td>\n",
       "      <td>5.961705</td>\n",
       "      <td>5.024612</td>\n",
       "      <td>1</td>\n",
       "      <td>Confidential</td>\n",
       "    </tr>\n",
       "    <tr>\n",
       "      <th>2</th>\n",
       "      <td>6002</td>\n",
       "      <td>89</td>\n",
       "      <td>1</td>\n",
       "      <td>0</td>\n",
       "      <td>1</td>\n",
       "      <td>3</td>\n",
       "      <td>19.782251</td>\n",
       "      <td>0</td>\n",
       "      <td>1.177301</td>\n",
       "      <td>6.103395</td>\n",
       "      <td>...</td>\n",
       "      <td>0</td>\n",
       "      <td>54.485744</td>\n",
       "      <td>0</td>\n",
       "      <td>0</td>\n",
       "      <td>0</td>\n",
       "      <td>2.701019</td>\n",
       "      <td>8.950821</td>\n",
       "      <td>7.034944</td>\n",
       "      <td>0</td>\n",
       "      <td>Confidential</td>\n",
       "    </tr>\n",
       "    <tr>\n",
       "      <th>3</th>\n",
       "      <td>6003</td>\n",
       "      <td>21</td>\n",
       "      <td>1</td>\n",
       "      <td>1</td>\n",
       "      <td>1</td>\n",
       "      <td>2</td>\n",
       "      <td>32.376881</td>\n",
       "      <td>1</td>\n",
       "      <td>1.714621</td>\n",
       "      <td>8.645465</td>\n",
       "      <td>...</td>\n",
       "      <td>0</td>\n",
       "      <td>77.866758</td>\n",
       "      <td>0</td>\n",
       "      <td>0</td>\n",
       "      <td>1</td>\n",
       "      <td>1.409056</td>\n",
       "      <td>3.124769</td>\n",
       "      <td>4.717774</td>\n",
       "      <td>0</td>\n",
       "      <td>Confidential</td>\n",
       "    </tr>\n",
       "    <tr>\n",
       "      <th>4</th>\n",
       "      <td>6004</td>\n",
       "      <td>27</td>\n",
       "      <td>1</td>\n",
       "      <td>0</td>\n",
       "      <td>1</td>\n",
       "      <td>3</td>\n",
       "      <td>16.808600</td>\n",
       "      <td>0</td>\n",
       "      <td>15.462549</td>\n",
       "      <td>4.629383</td>\n",
       "      <td>...</td>\n",
       "      <td>0</td>\n",
       "      <td>37.731808</td>\n",
       "      <td>0</td>\n",
       "      <td>0</td>\n",
       "      <td>0</td>\n",
       "      <td>1.218452</td>\n",
       "      <td>6.977741</td>\n",
       "      <td>7.887940</td>\n",
       "      <td>0</td>\n",
       "      <td>Confidential</td>\n",
       "    </tr>\n",
       "  </tbody>\n",
       "</table>\n",
       "<p>5 rows × 46 columns</p>\n",
       "</div>"
      ],
      "text/plain": [
       "   PatientID  Age  Gender  Ethnicity  SocioeconomicStatus  EducationLevel  \\\n",
       "0       6000   44       0          1                    2               1   \n",
       "1       6001   51       1          0                    1               2   \n",
       "2       6002   89       1          0                    1               3   \n",
       "3       6003   21       1          1                    1               2   \n",
       "4       6004   27       1          0                    1               3   \n",
       "\n",
       "         BMI  Smoking  AlcoholConsumption  PhysicalActivity  ...  \\\n",
       "0  32.985284        1            4.499365          2.443385  ...   \n",
       "1  39.916764        0            1.578919          8.301264  ...   \n",
       "2  19.782251        0            1.177301          6.103395  ...   \n",
       "3  32.376881        1            1.714621          8.645465  ...   \n",
       "4  16.808600        0           15.462549          4.629383  ...   \n",
       "\n",
       "   TinglingHandsFeet  QualityOfLifeScore  HeavyMetalsExposure  \\\n",
       "0                  1           73.765109                    0   \n",
       "1                  0           91.445753                    0   \n",
       "2                  0           54.485744                    0   \n",
       "3                  0           77.866758                    0   \n",
       "4                  0           37.731808                    0   \n",
       "\n",
       "   OccupationalExposureChemicals  WaterQuality  MedicalCheckupsFrequency  \\\n",
       "0                              0             0                  1.782724   \n",
       "1                              0             1                  3.381070   \n",
       "2                              0             0                  2.701019   \n",
       "3                              0             1                  1.409056   \n",
       "4                              0             0                  1.218452   \n",
       "\n",
       "   MedicationAdherence  HealthLiteracy  Diagnosis  DoctorInCharge  \n",
       "0             4.486980        7.211349          1    Confidential  \n",
       "1             5.961705        5.024612          1    Confidential  \n",
       "2             8.950821        7.034944          0    Confidential  \n",
       "3             3.124769        4.717774          0    Confidential  \n",
       "4             6.977741        7.887940          0    Confidential  \n",
       "\n",
       "[5 rows x 46 columns]"
      ]
     },
     "execution_count": 129,
     "metadata": {},
     "output_type": "execute_result"
    }
   ],
   "source": [
    "df = pd.read_csv(\"../data/diabetes_data.csv\")\n",
    "df.head()"
   ]
  },
  {
   "cell_type": "code",
   "execution_count": 130,
   "metadata": {},
   "outputs": [
    {
     "name": "stdout",
     "output_type": "stream",
     "text": [
      "The data has 1879 rows and 46 columns\n"
     ]
    }
   ],
   "source": [
    "print(f\"The data has {df.shape[0]} rows and {df.shape[1]} columns\")"
   ]
  },
  {
   "cell_type": "markdown",
   "metadata": {},
   "source": [
    "Let's check the data types"
   ]
  },
  {
   "cell_type": "code",
   "execution_count": 131,
   "metadata": {},
   "outputs": [
    {
     "name": "stdout",
     "output_type": "stream",
     "text": [
      "<class 'pandas.core.frame.DataFrame'>\n",
      "RangeIndex: 1879 entries, 0 to 1878\n",
      "Data columns (total 46 columns):\n",
      " #   Column                         Non-Null Count  Dtype  \n",
      "---  ------                         --------------  -----  \n",
      " 0   PatientID                      1879 non-null   int64  \n",
      " 1   Age                            1879 non-null   int64  \n",
      " 2   Gender                         1879 non-null   int64  \n",
      " 3   Ethnicity                      1879 non-null   int64  \n",
      " 4   SocioeconomicStatus            1879 non-null   int64  \n",
      " 5   EducationLevel                 1879 non-null   int64  \n",
      " 6   BMI                            1879 non-null   float64\n",
      " 7   Smoking                        1879 non-null   int64  \n",
      " 8   AlcoholConsumption             1879 non-null   float64\n",
      " 9   PhysicalActivity               1879 non-null   float64\n",
      " 10  DietQuality                    1879 non-null   float64\n",
      " 11  SleepQuality                   1879 non-null   float64\n",
      " 12  FamilyHistoryDiabetes          1879 non-null   int64  \n",
      " 13  GestationalDiabetes            1879 non-null   int64  \n",
      " 14  PolycysticOvarySyndrome        1879 non-null   int64  \n",
      " 15  PreviousPreDiabetes            1879 non-null   int64  \n",
      " 16  Hypertension                   1879 non-null   int64  \n",
      " 17  SystolicBP                     1879 non-null   int64  \n",
      " 18  DiastolicBP                    1879 non-null   int64  \n",
      " 19  FastingBloodSugar              1879 non-null   float64\n",
      " 20  HbA1c                          1879 non-null   float64\n",
      " 21  SerumCreatinine                1879 non-null   float64\n",
      " 22  BUNLevels                      1879 non-null   float64\n",
      " 23  CholesterolTotal               1879 non-null   float64\n",
      " 24  CholesterolLDL                 1879 non-null   float64\n",
      " 25  CholesterolHDL                 1879 non-null   float64\n",
      " 26  CholesterolTriglycerides       1879 non-null   float64\n",
      " 27  AntihypertensiveMedications    1879 non-null   int64  \n",
      " 28  Statins                        1879 non-null   int64  \n",
      " 29  AntidiabeticMedications        1879 non-null   int64  \n",
      " 30  FrequentUrination              1879 non-null   int64  \n",
      " 31  ExcessiveThirst                1879 non-null   int64  \n",
      " 32  UnexplainedWeightLoss          1879 non-null   int64  \n",
      " 33  FatigueLevels                  1879 non-null   float64\n",
      " 34  BlurredVision                  1879 non-null   int64  \n",
      " 35  SlowHealingSores               1879 non-null   int64  \n",
      " 36  TinglingHandsFeet              1879 non-null   int64  \n",
      " 37  QualityOfLifeScore             1879 non-null   float64\n",
      " 38  HeavyMetalsExposure            1879 non-null   int64  \n",
      " 39  OccupationalExposureChemicals  1879 non-null   int64  \n",
      " 40  WaterQuality                   1879 non-null   int64  \n",
      " 41  MedicalCheckupsFrequency       1879 non-null   float64\n",
      " 42  MedicationAdherence            1879 non-null   float64\n",
      " 43  HealthLiteracy                 1879 non-null   float64\n",
      " 44  Diagnosis                      1879 non-null   int64  \n",
      " 45  DoctorInCharge                 1879 non-null   object \n",
      "dtypes: float64(18), int64(27), object(1)\n",
      "memory usage: 675.4+ KB\n"
     ]
    }
   ],
   "source": [
    "df.info()"
   ]
  },
  {
   "cell_type": "markdown",
   "metadata": {},
   "source": [
    "Let's check the statistics of the data"
   ]
  },
  {
   "cell_type": "code",
   "execution_count": 132,
   "metadata": {},
   "outputs": [
    {
     "data": {
      "text/html": [
       "<div>\n",
       "<style scoped>\n",
       "    .dataframe tbody tr th:only-of-type {\n",
       "        vertical-align: middle;\n",
       "    }\n",
       "\n",
       "    .dataframe tbody tr th {\n",
       "        vertical-align: top;\n",
       "    }\n",
       "\n",
       "    .dataframe thead th {\n",
       "        text-align: right;\n",
       "    }\n",
       "</style>\n",
       "<table border=\"1\" class=\"dataframe\">\n",
       "  <thead>\n",
       "    <tr style=\"text-align: right;\">\n",
       "      <th></th>\n",
       "      <th>PatientID</th>\n",
       "      <th>Age</th>\n",
       "      <th>Gender</th>\n",
       "      <th>Ethnicity</th>\n",
       "      <th>SocioeconomicStatus</th>\n",
       "      <th>EducationLevel</th>\n",
       "      <th>BMI</th>\n",
       "      <th>Smoking</th>\n",
       "      <th>AlcoholConsumption</th>\n",
       "      <th>PhysicalActivity</th>\n",
       "      <th>...</th>\n",
       "      <th>SlowHealingSores</th>\n",
       "      <th>TinglingHandsFeet</th>\n",
       "      <th>QualityOfLifeScore</th>\n",
       "      <th>HeavyMetalsExposure</th>\n",
       "      <th>OccupationalExposureChemicals</th>\n",
       "      <th>WaterQuality</th>\n",
       "      <th>MedicalCheckupsFrequency</th>\n",
       "      <th>MedicationAdherence</th>\n",
       "      <th>HealthLiteracy</th>\n",
       "      <th>Diagnosis</th>\n",
       "    </tr>\n",
       "  </thead>\n",
       "  <tbody>\n",
       "    <tr>\n",
       "      <th>count</th>\n",
       "      <td>1879.000000</td>\n",
       "      <td>1879.000000</td>\n",
       "      <td>1879.000000</td>\n",
       "      <td>1879.000000</td>\n",
       "      <td>1879.000000</td>\n",
       "      <td>1879.000000</td>\n",
       "      <td>1879.000000</td>\n",
       "      <td>1879.000000</td>\n",
       "      <td>1879.000000</td>\n",
       "      <td>1879.000000</td>\n",
       "      <td>...</td>\n",
       "      <td>1879.000000</td>\n",
       "      <td>1879.000000</td>\n",
       "      <td>1879.000000</td>\n",
       "      <td>1879.000000</td>\n",
       "      <td>1879.000000</td>\n",
       "      <td>1879.000000</td>\n",
       "      <td>1879.000000</td>\n",
       "      <td>1879.000000</td>\n",
       "      <td>1879.000000</td>\n",
       "      <td>1879.000000</td>\n",
       "    </tr>\n",
       "    <tr>\n",
       "      <th>mean</th>\n",
       "      <td>6939.000000</td>\n",
       "      <td>55.043108</td>\n",
       "      <td>0.487493</td>\n",
       "      <td>0.755721</td>\n",
       "      <td>0.992017</td>\n",
       "      <td>1.699308</td>\n",
       "      <td>27.687601</td>\n",
       "      <td>0.281533</td>\n",
       "      <td>10.096587</td>\n",
       "      <td>5.200790</td>\n",
       "      <td>...</td>\n",
       "      <td>0.102714</td>\n",
       "      <td>0.111229</td>\n",
       "      <td>48.508643</td>\n",
       "      <td>0.052155</td>\n",
       "      <td>0.103246</td>\n",
       "      <td>0.200639</td>\n",
       "      <td>1.997101</td>\n",
       "      <td>4.957539</td>\n",
       "      <td>5.011736</td>\n",
       "      <td>0.400213</td>\n",
       "    </tr>\n",
       "    <tr>\n",
       "      <th>std</th>\n",
       "      <td>542.564896</td>\n",
       "      <td>20.515839</td>\n",
       "      <td>0.499977</td>\n",
       "      <td>1.047558</td>\n",
       "      <td>0.764940</td>\n",
       "      <td>0.885665</td>\n",
       "      <td>7.190975</td>\n",
       "      <td>0.449866</td>\n",
       "      <td>5.914216</td>\n",
       "      <td>2.857012</td>\n",
       "      <td>...</td>\n",
       "      <td>0.303666</td>\n",
       "      <td>0.314500</td>\n",
       "      <td>28.758488</td>\n",
       "      <td>0.222400</td>\n",
       "      <td>0.304361</td>\n",
       "      <td>0.400585</td>\n",
       "      <td>1.122632</td>\n",
       "      <td>2.910934</td>\n",
       "      <td>2.920908</td>\n",
       "      <td>0.490072</td>\n",
       "    </tr>\n",
       "    <tr>\n",
       "      <th>min</th>\n",
       "      <td>6000.000000</td>\n",
       "      <td>20.000000</td>\n",
       "      <td>0.000000</td>\n",
       "      <td>0.000000</td>\n",
       "      <td>0.000000</td>\n",
       "      <td>0.000000</td>\n",
       "      <td>15.025898</td>\n",
       "      <td>0.000000</td>\n",
       "      <td>0.000928</td>\n",
       "      <td>0.004089</td>\n",
       "      <td>...</td>\n",
       "      <td>0.000000</td>\n",
       "      <td>0.000000</td>\n",
       "      <td>0.002390</td>\n",
       "      <td>0.000000</td>\n",
       "      <td>0.000000</td>\n",
       "      <td>0.000000</td>\n",
       "      <td>0.004013</td>\n",
       "      <td>0.005384</td>\n",
       "      <td>0.000362</td>\n",
       "      <td>0.000000</td>\n",
       "    </tr>\n",
       "    <tr>\n",
       "      <th>25%</th>\n",
       "      <td>6469.500000</td>\n",
       "      <td>38.000000</td>\n",
       "      <td>0.000000</td>\n",
       "      <td>0.000000</td>\n",
       "      <td>0.000000</td>\n",
       "      <td>1.000000</td>\n",
       "      <td>21.469981</td>\n",
       "      <td>0.000000</td>\n",
       "      <td>4.789725</td>\n",
       "      <td>2.751022</td>\n",
       "      <td>...</td>\n",
       "      <td>0.000000</td>\n",
       "      <td>0.000000</td>\n",
       "      <td>23.974098</td>\n",
       "      <td>0.000000</td>\n",
       "      <td>0.000000</td>\n",
       "      <td>0.000000</td>\n",
       "      <td>1.057801</td>\n",
       "      <td>2.420024</td>\n",
       "      <td>2.410113</td>\n",
       "      <td>0.000000</td>\n",
       "    </tr>\n",
       "    <tr>\n",
       "      <th>50%</th>\n",
       "      <td>6939.000000</td>\n",
       "      <td>55.000000</td>\n",
       "      <td>0.000000</td>\n",
       "      <td>0.000000</td>\n",
       "      <td>1.000000</td>\n",
       "      <td>2.000000</td>\n",
       "      <td>27.722988</td>\n",
       "      <td>0.000000</td>\n",
       "      <td>10.173865</td>\n",
       "      <td>5.249002</td>\n",
       "      <td>...</td>\n",
       "      <td>0.000000</td>\n",
       "      <td>0.000000</td>\n",
       "      <td>47.519693</td>\n",
       "      <td>0.000000</td>\n",
       "      <td>0.000000</td>\n",
       "      <td>0.000000</td>\n",
       "      <td>1.987170</td>\n",
       "      <td>4.843886</td>\n",
       "      <td>5.035208</td>\n",
       "      <td>0.000000</td>\n",
       "    </tr>\n",
       "    <tr>\n",
       "      <th>75%</th>\n",
       "      <td>7408.500000</td>\n",
       "      <td>73.000000</td>\n",
       "      <td>1.000000</td>\n",
       "      <td>1.000000</td>\n",
       "      <td>2.000000</td>\n",
       "      <td>2.000000</td>\n",
       "      <td>33.856460</td>\n",
       "      <td>1.000000</td>\n",
       "      <td>15.285359</td>\n",
       "      <td>7.671402</td>\n",
       "      <td>...</td>\n",
       "      <td>0.000000</td>\n",
       "      <td>0.000000</td>\n",
       "      <td>72.883179</td>\n",
       "      <td>0.000000</td>\n",
       "      <td>0.000000</td>\n",
       "      <td>0.000000</td>\n",
       "      <td>2.946019</td>\n",
       "      <td>7.513933</td>\n",
       "      <td>7.586865</td>\n",
       "      <td>1.000000</td>\n",
       "    </tr>\n",
       "    <tr>\n",
       "      <th>max</th>\n",
       "      <td>7878.000000</td>\n",
       "      <td>90.000000</td>\n",
       "      <td>1.000000</td>\n",
       "      <td>3.000000</td>\n",
       "      <td>2.000000</td>\n",
       "      <td>3.000000</td>\n",
       "      <td>39.998811</td>\n",
       "      <td>1.000000</td>\n",
       "      <td>19.996231</td>\n",
       "      <td>9.993893</td>\n",
       "      <td>...</td>\n",
       "      <td>1.000000</td>\n",
       "      <td>1.000000</td>\n",
       "      <td>99.788530</td>\n",
       "      <td>1.000000</td>\n",
       "      <td>1.000000</td>\n",
       "      <td>1.000000</td>\n",
       "      <td>3.999715</td>\n",
       "      <td>9.997165</td>\n",
       "      <td>9.993029</td>\n",
       "      <td>1.000000</td>\n",
       "    </tr>\n",
       "  </tbody>\n",
       "</table>\n",
       "<p>8 rows × 45 columns</p>\n",
       "</div>"
      ],
      "text/plain": [
       "         PatientID          Age       Gender    Ethnicity  \\\n",
       "count  1879.000000  1879.000000  1879.000000  1879.000000   \n",
       "mean   6939.000000    55.043108     0.487493     0.755721   \n",
       "std     542.564896    20.515839     0.499977     1.047558   \n",
       "min    6000.000000    20.000000     0.000000     0.000000   \n",
       "25%    6469.500000    38.000000     0.000000     0.000000   \n",
       "50%    6939.000000    55.000000     0.000000     0.000000   \n",
       "75%    7408.500000    73.000000     1.000000     1.000000   \n",
       "max    7878.000000    90.000000     1.000000     3.000000   \n",
       "\n",
       "       SocioeconomicStatus  EducationLevel          BMI      Smoking  \\\n",
       "count          1879.000000     1879.000000  1879.000000  1879.000000   \n",
       "mean              0.992017        1.699308    27.687601     0.281533   \n",
       "std               0.764940        0.885665     7.190975     0.449866   \n",
       "min               0.000000        0.000000    15.025898     0.000000   \n",
       "25%               0.000000        1.000000    21.469981     0.000000   \n",
       "50%               1.000000        2.000000    27.722988     0.000000   \n",
       "75%               2.000000        2.000000    33.856460     1.000000   \n",
       "max               2.000000        3.000000    39.998811     1.000000   \n",
       "\n",
       "       AlcoholConsumption  PhysicalActivity  ...  SlowHealingSores  \\\n",
       "count         1879.000000       1879.000000  ...       1879.000000   \n",
       "mean            10.096587          5.200790  ...          0.102714   \n",
       "std              5.914216          2.857012  ...          0.303666   \n",
       "min              0.000928          0.004089  ...          0.000000   \n",
       "25%              4.789725          2.751022  ...          0.000000   \n",
       "50%             10.173865          5.249002  ...          0.000000   \n",
       "75%             15.285359          7.671402  ...          0.000000   \n",
       "max             19.996231          9.993893  ...          1.000000   \n",
       "\n",
       "       TinglingHandsFeet  QualityOfLifeScore  HeavyMetalsExposure  \\\n",
       "count        1879.000000         1879.000000          1879.000000   \n",
       "mean            0.111229           48.508643             0.052155   \n",
       "std             0.314500           28.758488             0.222400   \n",
       "min             0.000000            0.002390             0.000000   \n",
       "25%             0.000000           23.974098             0.000000   \n",
       "50%             0.000000           47.519693             0.000000   \n",
       "75%             0.000000           72.883179             0.000000   \n",
       "max             1.000000           99.788530             1.000000   \n",
       "\n",
       "       OccupationalExposureChemicals  WaterQuality  MedicalCheckupsFrequency  \\\n",
       "count                    1879.000000   1879.000000               1879.000000   \n",
       "mean                        0.103246      0.200639                  1.997101   \n",
       "std                         0.304361      0.400585                  1.122632   \n",
       "min                         0.000000      0.000000                  0.004013   \n",
       "25%                         0.000000      0.000000                  1.057801   \n",
       "50%                         0.000000      0.000000                  1.987170   \n",
       "75%                         0.000000      0.000000                  2.946019   \n",
       "max                         1.000000      1.000000                  3.999715   \n",
       "\n",
       "       MedicationAdherence  HealthLiteracy    Diagnosis  \n",
       "count          1879.000000     1879.000000  1879.000000  \n",
       "mean              4.957539        5.011736     0.400213  \n",
       "std               2.910934        2.920908     0.490072  \n",
       "min               0.005384        0.000362     0.000000  \n",
       "25%               2.420024        2.410113     0.000000  \n",
       "50%               4.843886        5.035208     0.000000  \n",
       "75%               7.513933        7.586865     1.000000  \n",
       "max               9.997165        9.993029     1.000000  \n",
       "\n",
       "[8 rows x 45 columns]"
      ]
     },
     "execution_count": 132,
     "metadata": {},
     "output_type": "execute_result"
    }
   ],
   "source": [
    "df.describe()"
   ]
  },
  {
   "cell_type": "markdown",
   "metadata": {},
   "source": [
    "Check duplicates"
   ]
  },
  {
   "cell_type": "code",
   "execution_count": 133,
   "metadata": {},
   "outputs": [
    {
     "name": "stdout",
     "output_type": "stream",
     "text": [
      "The data has 0 duplicated row(s)\n"
     ]
    }
   ],
   "source": [
    "duplicated = df.duplicated().sum()\n",
    "print(f\"The data has {duplicated} duplicated row(s)\")"
   ]
  },
  {
   "cell_type": "markdown",
   "metadata": {},
   "source": [
    "Change variables to the correct data type"
   ]
  },
  {
   "cell_type": "code",
   "execution_count": 134,
   "metadata": {},
   "outputs": [],
   "source": [
    "cat_cols = [\"Gender\", \"Ethnicity\", \"SocioeconomicStatus\", \"EducationLevel\", \"Smoking\", \"FamilyHistoryDiabetes\", \"GestationalDiabetes\",\n",
    "            \"PolycysticOvarySyndrome\", \"PreviousPreDiabetes\", \"Hypertension\", \"AntihypertensiveMedications\",\n",
    "            \"Statins\", \"AntidiabeticMedications\", \"FrequentUrination\", \"ExcessiveThirst\", \"UnexplainedWeightLoss\", \"BlurredVision\",\n",
    "            \"SlowHealingSores\", \"TinglingHandsFeet\", \"HeavyMetalsExposure\", \"OccupationalExposureChemicals\", \"WaterQuality\",\n",
    "            ]\n",
    "\n",
    "df[cat_cols] = df[cat_cols].astype(\"category\")"
   ]
  },
  {
   "cell_type": "markdown",
   "metadata": {},
   "source": [
    "Drop unnecessary columns"
   ]
  },
  {
   "cell_type": "code",
   "execution_count": 135,
   "metadata": {},
   "outputs": [],
   "source": [
    "df = df.drop([\"PatientID\", \"DoctorInCharge\"], axis=1)"
   ]
  },
  {
   "cell_type": "markdown",
   "metadata": {},
   "source": [
    "## Exploratory Data Analysis"
   ]
  },
  {
   "cell_type": "code",
   "execution_count": 136,
   "metadata": {},
   "outputs": [
    {
     "data": {
      "image/png": "[encoded data removed]",
      "text/plain": [
       "<Figure size 640x480 with 1 Axes>"
      ]
     },
     "metadata": {},
     "output_type": "display_data"
    }
   ],
   "source": [
    "sns.histplot(df[\"Age\"])\n",
    "plt.title('Distribution of Age')\n",
    "plt.xlabel('Age')\n",
    "plt.ylabel('Frequency')\n",
    "plt.show()"
   ]
  },
  {
   "cell_type": "markdown",
   "metadata": {},
   "source": [
    "We can see that there are 3 groups that are more likely to get diabetes. They are 20s, 50s and 60s and late 80s"
   ]
  },
  {
   "cell_type": "code",
   "execution_count": 137,
   "metadata": {},
   "outputs": [
    {
     "data": {
      "image/png": "[encoded data removed]",
      "text/plain": [
       "<Figure size 800x600 with 1 Axes>"
      ]
     },
     "metadata": {},
     "output_type": "display_data"
    }
   ],
   "source": [
    "plt.figure(figsize=(8, 6))\n",
    "sns.countplot(x='Gender', data=df)\n",
    "plt.title('Gender Distribution')\n",
    "plt.xlabel('Gender (0: Male, 1: Female)')\n",
    "plt.ylabel('Count')\n",
    "plt.show()"
   ]
  },
  {
   "cell_type": "code",
   "execution_count": 138,
   "metadata": {},
   "outputs": [],
   "source": [
    "temp_df = df[\"Ethnicity\"].copy()\n",
    "temp_df = temp_df.map({0:\"Caucasian\", 1:\"African American\", 3:\"Asian\", 4:\"Other\" })"
   ]
  },
  {
   "cell_type": "code",
   "execution_count": 139,
   "metadata": {},
   "outputs": [
    {
     "data": {
      "image/png": "[encoded data removed]",
      "text/plain": [
       "<Figure size 1000x600 with 1 Axes>"
      ]
     },
     "metadata": {},
     "output_type": "display_data"
    }
   ],
   "source": [
    "ethnicity_dict = {0: 'Caucasian', 1: 'African American', 2: 'Asian', 3: 'Other'}\n",
    "df['Ethnicity_Label'] = df['Ethnicity'].map(ethnicity_dict)\n",
    "plt.figure(figsize=(10, 6))\n",
    "sns.countplot(x='Ethnicity_Label', data=df)\n",
    "plt.title('Ethnicity Distribution')\n",
    "plt.xlabel('Ethnicity')\n",
    "plt.ylabel('Count')\n",
    "plt.show()\n",
    "df.drop(\"Ethnicity_Label\", axis=1, inplace=True)"
   ]
  },
  {
   "cell_type": "code",
   "execution_count": 140,
   "metadata": {},
   "outputs": [
    {
     "data": {
      "image/png": "[encoded data removed]",
      "text/plain": [
       "<Figure size 640x480 with 1 Axes>"
      ]
     },
     "metadata": {},
     "output_type": "display_data"
    }
   ],
   "source": [
    "df_plot = df.groupby([\"Ethnicity\", \"Diagnosis\"]).size().reset_index().pivot(columns=\"Ethnicity\", index=\"Diagnosis\", values=0)\n",
    "df_plot.plot(kind='bar', stacked=True)\n",
    "plt.legend([\"Caucasian\", \"African American\", \"Asian\", \"Other\"])\n",
    "plt.show()"
   ]
  },
  {
   "cell_type": "code",
   "execution_count": 144,
   "metadata": {},
   "outputs": [
    {
     "data": {
      "image/png": "[encoded data removed]",
      "text/plain": [
       "<Figure size 1000x600 with 1 Axes>"
      ]
     },
     "metadata": {},
     "output_type": "display_data"
    }
   ],
   "source": [
    "socio_dict = {0: 'Low', 1: 'Middle', 2: 'Asian', 3: 'High'}\n",
    "df['Socio_Label'] = df['SocioeconomicStatus'].map(socio_dict)\n",
    "plt.figure(figsize=(10, 6))\n",
    "sns.countplot(x='Socio_Label', data=df)\n",
    "plt.title('Socioeconomic status Distribution')\n",
    "plt.xlabel('Status')\n",
    "plt.ylabel('Count')\n",
    "plt.show()\n",
    "df.drop(\"Socio_Label\", axis=1, inplace=True)"
   ]
  },
  {
   "cell_type": "code",
   "execution_count": 146,
   "metadata": {},
   "outputs": [
    {
     "data": {
      "image/png": "[encoded data removed]",
      "text/plain": [
       "<Figure size 640x480 with 1 Axes>"
      ]
     },
     "metadata": {},
     "output_type": "display_data"
    }
   ],
   "source": [
    "df_plot = df.groupby([\"SocioeconomicStatus\", \"Diagnosis\"]).size().reset_index().pivot(columns=\"SocioeconomicStatus\", index=\"Diagnosis\", values=0)\n",
    "df_plot.plot(kind='bar', stacked=True)\n",
    "plt.legend([\"Low\", \"Middle\", \"High\"])\n",
    "plt.show()"
   ]
  },
  {
   "cell_type": "code",
   "execution_count": 141,
   "metadata": {},
   "outputs": [
    {
     "data": {
      "image/png": "[encoded data removed]",
      "text/plain": [
       "<Figure size 640x480 with 1 Axes>"
      ]
     },
     "metadata": {},
     "output_type": "display_data"
    }
   ],
   "source": [
    "df_plot = df.groupby([\"EducationLevel\", \"Diagnosis\"]).size().reset_index().pivot(columns=\"EducationLevel\", index=\"Diagnosis\", values=0)\n",
    "df_plot.plot(kind='bar', stacked=True)\n",
    "plt.legend([\"None\", \"High School\", \"Bachelors\", \"Higher\"])\n",
    "plt.show()"
   ]
  },
  {
   "cell_type": "markdown",
   "metadata": {},
   "source": [
    "So diabetes happens mostly to average educated people and also not to which is kinda weird."
   ]
  },
  {
   "cell_type": "code",
   "execution_count": 142,
   "metadata": {},
   "outputs": [
    {
     "data": {
      "image/png": "[encoded data removed]",
      "text/plain": [
       "<Figure size 1000x600 with 1 Axes>"
      ]
     },
     "metadata": {},
     "output_type": "display_data"
    }
   ],
   "source": [
    "edu_dict = {0: 'None', 1: 'High School', 2: 'Bachelors', 3: 'Higher'}\n",
    "df['Edu_Label'] = df['EducationLevel'].map(edu_dict)\n",
    "plt.figure(figsize=(10, 6))\n",
    "sns.countplot(x='Edu_Label', data=df)\n",
    "plt.title('Education Distribution')\n",
    "plt.xlabel('Level')\n",
    "plt.ylabel('Count')\n",
    "plt.show()\n",
    "df.drop(\"Edu_Label\", axis=1, inplace=True)"
   ]
  },
  {
   "cell_type": "markdown",
   "metadata": {},
   "source": [
    "So our data contains mostly average educated people."
   ]
  },
  {
   "cell_type": "code",
   "execution_count": 143,
   "metadata": {},
   "outputs": [
    {
     "name": "stdout",
     "output_type": "stream",
     "text": [
      "                      BMI\n",
      "EducationLevel           \n",
      "0               27.401499\n",
      "1               27.787777\n",
      "2               27.743002\n",
      "3               27.540955\n"
     ]
    }
   ],
   "source": [
    "df_plot = df.groupby([\"EducationLevel\"])[\"BMI\"].mean()\n",
    "df_plot = pd.DataFrame(df_plot, columns=[\"BMI\"])\n",
    "print(df_plot)"
   ]
  },
  {
   "cell_type": "markdown",
   "metadata": {},
   "source": [
    "Average BMI between groups of education is almost the same."
   ]
  }
 ],
 "metadata": {
  "kernelspec": {
   "display_name": "base",
   "language": "python",
   "name": "python3"
  },
  "language_info": {
   "codemirror_mode": {
    "name": "ipython",
    "version": 3
   },
   "file_extension": ".py",
   "mimetype": "text/x-python",
   "name": "python",
   "nbconvert_exporter": "python",
   "pygments_lexer": "ipython3",
   "version": "3.11.7"
  }
 },
 "nbformat": 4,
 "nbformat_minor": 2
}
